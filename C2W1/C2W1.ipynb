{
 "cells": [
  {
   "cell_type": "markdown",
   "metadata": {},
   "source": [
    "### Imprort libraries"
   ]
  },
  {
   "cell_type": "code",
   "execution_count": 1,
   "metadata": {
    "collapsed": true
   },
   "outputs": [],
   "source": [
    "import pandas as pd\n",
    "import numpy as np\n",
    "import statsmodels.formula.api as smf\n",
    "import statsmodels.stats.multicomp as multi "
   ]
  },
  {
   "cell_type": "markdown",
   "metadata": {},
   "source": [
    "### Load dataset"
   ]
  },
  {
   "cell_type": "code",
   "execution_count": 2,
   "metadata": {
    "collapsed": true
   },
   "outputs": [],
   "source": [
    "data = pd.read_csv('gapminder.csv', low_memory=False)"
   ]
  },
  {
   "cell_type": "markdown",
   "metadata": {},
   "source": [
    "### Explore data set"
   ]
  },
  {
   "cell_type": "code",
   "execution_count": 3,
   "metadata": {},
   "outputs": [
    {
     "data": {
      "text/html": [
       "<div>\n",
       "<table border=\"1\" class=\"dataframe\">\n",
       "  <thead>\n",
       "    <tr style=\"text-align: right;\">\n",
       "      <th></th>\n",
       "      <th>country</th>\n",
       "      <th>incomeperperson</th>\n",
       "      <th>alcconsumption</th>\n",
       "      <th>armedforcesrate</th>\n",
       "      <th>breastcancerper100th</th>\n",
       "      <th>co2emissions</th>\n",
       "      <th>femaleemployrate</th>\n",
       "      <th>hivrate</th>\n",
       "      <th>internetuserate</th>\n",
       "      <th>lifeexpectancy</th>\n",
       "      <th>oilperperson</th>\n",
       "      <th>polityscore</th>\n",
       "      <th>relectricperperson</th>\n",
       "      <th>suicideper100th</th>\n",
       "      <th>employrate</th>\n",
       "      <th>urbanrate</th>\n",
       "    </tr>\n",
       "  </thead>\n",
       "  <tbody>\n",
       "    <tr>\n",
       "      <th>0</th>\n",
       "      <td>Afghanistan</td>\n",
       "      <td></td>\n",
       "      <td>.03</td>\n",
       "      <td>.5696534</td>\n",
       "      <td>26.8</td>\n",
       "      <td>75944000</td>\n",
       "      <td>25.6000003814697</td>\n",
       "      <td></td>\n",
       "      <td>3.65412162280064</td>\n",
       "      <td>48.673</td>\n",
       "      <td></td>\n",
       "      <td>0</td>\n",
       "      <td></td>\n",
       "      <td>6.68438529968262</td>\n",
       "      <td>55.7000007629394</td>\n",
       "      <td>24.04</td>\n",
       "    </tr>\n",
       "    <tr>\n",
       "      <th>1</th>\n",
       "      <td>Albania</td>\n",
       "      <td>1914.99655094922</td>\n",
       "      <td>7.29</td>\n",
       "      <td>1.0247361</td>\n",
       "      <td>57.4</td>\n",
       "      <td>223747333.333333</td>\n",
       "      <td>42.0999984741211</td>\n",
       "      <td></td>\n",
       "      <td>44.9899469578783</td>\n",
       "      <td>76.918</td>\n",
       "      <td></td>\n",
       "      <td>9</td>\n",
       "      <td>636.341383366604</td>\n",
       "      <td>7.69932985305786</td>\n",
       "      <td>51.4000015258789</td>\n",
       "      <td>46.72</td>\n",
       "    </tr>\n",
       "    <tr>\n",
       "      <th>2</th>\n",
       "      <td>Algeria</td>\n",
       "      <td>2231.99333515006</td>\n",
       "      <td>.69</td>\n",
       "      <td>2.306817</td>\n",
       "      <td>23.5</td>\n",
       "      <td>2932108666.66667</td>\n",
       "      <td>31.7000007629394</td>\n",
       "      <td>.1</td>\n",
       "      <td>12.5000733055148</td>\n",
       "      <td>73.131</td>\n",
       "      <td>.42009452521537</td>\n",
       "      <td>2</td>\n",
       "      <td>590.509814347428</td>\n",
       "      <td>4.8487696647644</td>\n",
       "      <td>50.5</td>\n",
       "      <td>65.22</td>\n",
       "    </tr>\n",
       "    <tr>\n",
       "      <th>3</th>\n",
       "      <td>Andorra</td>\n",
       "      <td>21943.3398976022</td>\n",
       "      <td>10.17</td>\n",
       "      <td></td>\n",
       "      <td></td>\n",
       "      <td></td>\n",
       "      <td></td>\n",
       "      <td></td>\n",
       "      <td>81</td>\n",
       "      <td></td>\n",
       "      <td></td>\n",
       "      <td></td>\n",
       "      <td></td>\n",
       "      <td>5.36217880249023</td>\n",
       "      <td></td>\n",
       "      <td>88.92</td>\n",
       "    </tr>\n",
       "    <tr>\n",
       "      <th>4</th>\n",
       "      <td>Angola</td>\n",
       "      <td>1381.00426770244</td>\n",
       "      <td>5.57</td>\n",
       "      <td>1.4613288</td>\n",
       "      <td>23.1</td>\n",
       "      <td>248358000</td>\n",
       "      <td>69.4000015258789</td>\n",
       "      <td>2</td>\n",
       "      <td>9.99995388324075</td>\n",
       "      <td>51.093</td>\n",
       "      <td></td>\n",
       "      <td>-2</td>\n",
       "      <td>172.999227388199</td>\n",
       "      <td>14.5546770095825</td>\n",
       "      <td>75.6999969482422</td>\n",
       "      <td>56.7</td>\n",
       "    </tr>\n",
       "  </tbody>\n",
       "</table>\n",
       "</div>"
      ],
      "text/plain": [
       "       country   incomeperperson alcconsumption armedforcesrate  \\\n",
       "0  Afghanistan                              .03        .5696534   \n",
       "1      Albania  1914.99655094922           7.29       1.0247361   \n",
       "2      Algeria  2231.99333515006            .69        2.306817   \n",
       "3      Andorra  21943.3398976022          10.17                   \n",
       "4       Angola  1381.00426770244           5.57       1.4613288   \n",
       "\n",
       "  breastcancerper100th      co2emissions  femaleemployrate hivrate  \\\n",
       "0                 26.8          75944000  25.6000003814697           \n",
       "1                 57.4  223747333.333333  42.0999984741211           \n",
       "2                 23.5  2932108666.66667  31.7000007629394      .1   \n",
       "3                                                                    \n",
       "4                 23.1         248358000  69.4000015258789       2   \n",
       "\n",
       "    internetuserate lifeexpectancy     oilperperson polityscore  \\\n",
       "0  3.65412162280064         48.673                            0   \n",
       "1  44.9899469578783         76.918                            9   \n",
       "2  12.5000733055148         73.131  .42009452521537           2   \n",
       "3                81                                               \n",
       "4  9.99995388324075         51.093                           -2   \n",
       "\n",
       "  relectricperperson   suicideper100th        employrate urbanrate  \n",
       "0                     6.68438529968262  55.7000007629394     24.04  \n",
       "1   636.341383366604  7.69932985305786  51.4000015258789     46.72  \n",
       "2   590.509814347428   4.8487696647644              50.5     65.22  \n",
       "3                     5.36217880249023                       88.92  \n",
       "4   172.999227388199  14.5546770095825  75.6999969482422      56.7  "
      ]
     },
     "execution_count": 3,
     "metadata": {},
     "output_type": "execute_result"
    }
   ],
   "source": [
    "data.head(5)"
   ]
  },
  {
   "cell_type": "code",
   "execution_count": 4,
   "metadata": {},
   "outputs": [
    {
     "name": "stdout",
     "output_type": "stream",
     "text": [
      "(213, 16)\n"
     ]
    }
   ],
   "source": [
    "print(data.shape)                # dimension of dataframe"
   ]
  },
  {
   "cell_type": "code",
   "execution_count": 5,
   "metadata": {},
   "outputs": [
    {
     "data": {
      "text/plain": [
       "Index(['country', 'incomeperperson', 'alcconsumption', 'armedforcesrate',\n",
       "       'breastcancerper100th', 'co2emissions', 'femaleemployrate', 'hivrate',\n",
       "       'internetuserate', 'lifeexpectancy', 'oilperperson', 'polityscore',\n",
       "       'relectricperperson', 'suicideper100th', 'employrate', 'urbanrate'],\n",
       "      dtype='object')"
      ]
     },
     "execution_count": 5,
     "metadata": {},
     "output_type": "execute_result"
    }
   ],
   "source": [
    "# Columns name\n",
    "data.columns"
   ]
  },
  {
   "cell_type": "markdown",
   "metadata": {},
   "source": [
    "### Setting variables you will be working with to numeric"
   ]
  },
  {
   "cell_type": "code",
   "execution_count": 6,
   "metadata": {},
   "outputs": [],
   "source": [
    "#setting variables you will be working with to numeric\n",
    "data['suicideper100th'] =pd.to_numeric(data['suicideper100th'], errors='coerce')\n",
    "data['incomeperperson'] =pd.to_numeric(data['incomeperperson'], errors='coerce')"
   ]
  },
  {
   "cell_type": "code",
   "execution_count": 7,
   "metadata": {},
   "outputs": [
    {
     "name": "stdout",
     "output_type": "stream",
     "text": [
      "<class 'pandas.core.frame.DataFrame'>\n",
      "RangeIndex: 213 entries, 0 to 212\n",
      "Data columns (total 16 columns):\n",
      "country                 213 non-null object\n",
      "incomeperperson         190 non-null float64\n",
      "alcconsumption          213 non-null object\n",
      "armedforcesrate         213 non-null object\n",
      "breastcancerper100th    213 non-null object\n",
      "co2emissions            213 non-null object\n",
      "femaleemployrate        213 non-null object\n",
      "hivrate                 213 non-null object\n",
      "internetuserate         213 non-null object\n",
      "lifeexpectancy          213 non-null object\n",
      "oilperperson            213 non-null object\n",
      "polityscore             213 non-null object\n",
      "relectricperperson      213 non-null object\n",
      "suicideper100th         191 non-null float64\n",
      "employrate              213 non-null object\n",
      "urbanrate               213 non-null object\n",
      "dtypes: float64(2), object(14)\n",
      "memory usage: 26.7+ KB\n"
     ]
    }
   ],
   "source": [
    "# Check type of data after converting\n",
    "data.info()"
   ]
  },
  {
   "cell_type": "code",
   "execution_count": 8,
   "metadata": {
    "collapsed": true
   },
   "outputs": [],
   "source": [
    "sub_data = data[['country','suicideper100th', 'incomeperperson']].copy()"
   ]
  },
  {
   "cell_type": "code",
   "execution_count": 9,
   "metadata": {},
   "outputs": [
    {
     "data": {
      "text/html": [
       "<div>\n",
       "<table border=\"1\" class=\"dataframe\">\n",
       "  <thead>\n",
       "    <tr style=\"text-align: right;\">\n",
       "      <th></th>\n",
       "      <th>country</th>\n",
       "      <th>suicideper100th</th>\n",
       "      <th>incomeperperson</th>\n",
       "    </tr>\n",
       "  </thead>\n",
       "  <tbody>\n",
       "    <tr>\n",
       "      <th>0</th>\n",
       "      <td>Afghanistan</td>\n",
       "      <td>6.684385</td>\n",
       "      <td>NaN</td>\n",
       "    </tr>\n",
       "    <tr>\n",
       "      <th>1</th>\n",
       "      <td>Albania</td>\n",
       "      <td>7.699330</td>\n",
       "      <td>1914.996551</td>\n",
       "    </tr>\n",
       "    <tr>\n",
       "      <th>2</th>\n",
       "      <td>Algeria</td>\n",
       "      <td>4.848770</td>\n",
       "      <td>2231.993335</td>\n",
       "    </tr>\n",
       "    <tr>\n",
       "      <th>3</th>\n",
       "      <td>Andorra</td>\n",
       "      <td>5.362179</td>\n",
       "      <td>21943.339898</td>\n",
       "    </tr>\n",
       "    <tr>\n",
       "      <th>4</th>\n",
       "      <td>Angola</td>\n",
       "      <td>14.554677</td>\n",
       "      <td>1381.004268</td>\n",
       "    </tr>\n",
       "  </tbody>\n",
       "</table>\n",
       "</div>"
      ],
      "text/plain": [
       "       country  suicideper100th  incomeperperson\n",
       "0  Afghanistan         6.684385              NaN\n",
       "1      Albania         7.699330      1914.996551\n",
       "2      Algeria         4.848770      2231.993335\n",
       "3      Andorra         5.362179     21943.339898\n",
       "4       Angola        14.554677      1381.004268"
      ]
     },
     "execution_count": 9,
     "metadata": {},
     "output_type": "execute_result"
    }
   ],
   "source": [
    "sub_data.head()"
   ]
  },
  {
   "cell_type": "markdown",
   "metadata": {},
   "source": [
    "### Counts and percentages (i.e. frequency distributions) for each variable"
   ]
  },
  {
   "cell_type": "code",
   "execution_count": 10,
   "metadata": {},
   "outputs": [
    {
     "data": {
      "text/html": [
       "<div>\n",
       "<table border=\"1\" class=\"dataframe\">\n",
       "  <thead>\n",
       "    <tr style=\"text-align: right;\">\n",
       "      <th></th>\n",
       "      <th>suicideper100th</th>\n",
       "      <th>incomeperperson</th>\n",
       "    </tr>\n",
       "  </thead>\n",
       "  <tbody>\n",
       "    <tr>\n",
       "      <th>count</th>\n",
       "      <td>191.000000</td>\n",
       "      <td>190.000000</td>\n",
       "    </tr>\n",
       "    <tr>\n",
       "      <th>mean</th>\n",
       "      <td>9.640839</td>\n",
       "      <td>8740.966076</td>\n",
       "    </tr>\n",
       "    <tr>\n",
       "      <th>std</th>\n",
       "      <td>6.300178</td>\n",
       "      <td>14262.809083</td>\n",
       "    </tr>\n",
       "    <tr>\n",
       "      <th>min</th>\n",
       "      <td>0.201449</td>\n",
       "      <td>103.775857</td>\n",
       "    </tr>\n",
       "    <tr>\n",
       "      <th>25%</th>\n",
       "      <td>4.988449</td>\n",
       "      <td>748.245151</td>\n",
       "    </tr>\n",
       "    <tr>\n",
       "      <th>50%</th>\n",
       "      <td>8.262893</td>\n",
       "      <td>2553.496056</td>\n",
       "    </tr>\n",
       "    <tr>\n",
       "      <th>75%</th>\n",
       "      <td>12.328551</td>\n",
       "      <td>9379.891165</td>\n",
       "    </tr>\n",
       "    <tr>\n",
       "      <th>max</th>\n",
       "      <td>35.752872</td>\n",
       "      <td>105147.437697</td>\n",
       "    </tr>\n",
       "  </tbody>\n",
       "</table>\n",
       "</div>"
      ],
      "text/plain": [
       "       suicideper100th  incomeperperson\n",
       "count       191.000000       190.000000\n",
       "mean          9.640839      8740.966076\n",
       "std           6.300178     14262.809083\n",
       "min           0.201449       103.775857\n",
       "25%           4.988449       748.245151\n",
       "50%           8.262893      2553.496056\n",
       "75%          12.328551      9379.891165\n",
       "max          35.752872    105147.437697"
      ]
     },
     "execution_count": 10,
     "metadata": {},
     "output_type": "execute_result"
    }
   ],
   "source": [
    "sub_data.describe()"
   ]
  },
  {
   "cell_type": "code",
   "execution_count": 11,
   "metadata": {},
   "outputs": [
    {
     "data": {
      "text/plain": [
       "(213, 3)"
      ]
     },
     "execution_count": 11,
     "metadata": {},
     "output_type": "execute_result"
    }
   ],
   "source": [
    "sub_data.shape"
   ]
  },
  {
   "cell_type": "markdown",
   "metadata": {},
   "source": [
    "### Drop some row that have missing values"
   ]
  },
  {
   "cell_type": "code",
   "execution_count": 12,
   "metadata": {},
   "outputs": [
    {
     "data": {
      "text/plain": [
       "(181, 3)"
      ]
     },
     "execution_count": 12,
     "metadata": {},
     "output_type": "execute_result"
    }
   ],
   "source": [
    "data_clean = sub_data.dropna().copy()\n",
    "data_clean.shape"
   ]
  },
  {
   "cell_type": "markdown",
   "metadata": {},
   "source": [
    "### To group the quantities into appropriate bins (make categorical data)"
   ]
  },
  {
   "cell_type": "code",
   "execution_count": 13,
   "metadata": {},
   "outputs": [],
   "source": [
    "for col in ('suicideper100th', 'incomeperperson'): \n",
    "      \n",
    "    if col == 'incomeperperson':\n",
    "        data_clean.loc[data_clean[col] <= 1000, col] = 1\n",
    "        data_clean.loc[( data_clean[col] > 1000) & ( data_clean[col] <= 2000), col] = 2\n",
    "        data_clean.loc[( data_clean[col] > 2000) & ( data_clean[col] <= 3000), col] = 3\n",
    "        data_clean.loc[( data_clean[col] > 3000) & ( data_clean[col] <= 4000), col] = 4\n",
    "        data_clean.loc[( data_clean[col] > 4000) & ( data_clean[col] <= 5000), col] = 5\n",
    "        data_clean.loc[( data_clean[col] > 5000) & ( data_clean[col] <= 6000), col] = 6\n",
    "        data_clean.loc[( data_clean[col] > 6000) & ( data_clean[col] <= 7000), col] = 7\n",
    "        data_clean.loc[( data_clean[col] > 7000) & ( data_clean[col] <= 8000), col] = 8\n",
    "        data_clean.loc[( data_clean[col] > 8000) & ( data_clean[col] <= 9000), col] = 9\n",
    "        data_clean.loc[( data_clean[col] > 9000) & ( data_clean[col] <= 10000), col] = 10\n",
    "        data_clean.loc[( data_clean[col] > 10000) & ( data_clean[col] <= 11000), col] =11\n",
    "        data_clean.loc[( data_clean[col] > 11000) & ( data_clean[col] <= 12000), col] = 12\n",
    "        data_clean.loc[( data_clean[col] > 12000) & ( data_clean[col] <= 13000), col] = 13\n",
    "        data_clean.loc[( data_clean[col] > 13000) & ( data_clean[col] <= 14000), col] = 14\n",
    "        data_clean.loc[( data_clean[col] > 14000) & ( data_clean[col] <= 15000), col] = 15\n",
    "        data_clean.loc[( data_clean[col] > 15000), col] = 16\n",
    "        data_clean[col] =  data_clean[col].astype(int)\n",
    "    \n",
    "   \n",
    "        \n",
    "    "
   ]
  },
  {
   "cell_type": "code",
   "execution_count": 14,
   "metadata": {},
   "outputs": [
    {
     "data": {
      "text/html": [
       "<div>\n",
       "<table border=\"1\" class=\"dataframe\">\n",
       "  <thead>\n",
       "    <tr style=\"text-align: right;\">\n",
       "      <th></th>\n",
       "      <th>country</th>\n",
       "      <th>suicideper100th</th>\n",
       "      <th>incomeperperson</th>\n",
       "    </tr>\n",
       "  </thead>\n",
       "  <tbody>\n",
       "    <tr>\n",
       "      <th>67</th>\n",
       "      <td>Gambia</td>\n",
       "      <td>6.449157</td>\n",
       "      <td>1</td>\n",
       "    </tr>\n",
       "    <tr>\n",
       "      <th>77</th>\n",
       "      <td>Guatemala</td>\n",
       "      <td>2.234896</td>\n",
       "      <td>2</td>\n",
       "    </tr>\n",
       "    <tr>\n",
       "      <th>164</th>\n",
       "      <td>Samoa</td>\n",
       "      <td>5.542324</td>\n",
       "      <td>2</td>\n",
       "    </tr>\n",
       "    <tr>\n",
       "      <th>64</th>\n",
       "      <td>France</td>\n",
       "      <td>14.091530</td>\n",
       "      <td>16</td>\n",
       "    </tr>\n",
       "    <tr>\n",
       "      <th>22</th>\n",
       "      <td>Bolivia</td>\n",
       "      <td>2.034178</td>\n",
       "      <td>2</td>\n",
       "    </tr>\n",
       "    <tr>\n",
       "      <th>47</th>\n",
       "      <td>Cuba</td>\n",
       "      <td>10.571910</td>\n",
       "      <td>5</td>\n",
       "    </tr>\n",
       "    <tr>\n",
       "      <th>106</th>\n",
       "      <td>Lesotho</td>\n",
       "      <td>7.858619</td>\n",
       "      <td>1</td>\n",
       "    </tr>\n",
       "    <tr>\n",
       "      <th>90</th>\n",
       "      <td>Ireland</td>\n",
       "      <td>10.365070</td>\n",
       "      <td>16</td>\n",
       "    </tr>\n",
       "    <tr>\n",
       "      <th>210</th>\n",
       "      <td>Yemen, Rep.</td>\n",
       "      <td>6.265789</td>\n",
       "      <td>1</td>\n",
       "    </tr>\n",
       "    <tr>\n",
       "      <th>45</th>\n",
       "      <td>Cote d'Ivoire</td>\n",
       "      <td>20.317930</td>\n",
       "      <td>1</td>\n",
       "    </tr>\n",
       "  </tbody>\n",
       "</table>\n",
       "</div>"
      ],
      "text/plain": [
       "           country  suicideper100th  incomeperperson\n",
       "67          Gambia         6.449157                1\n",
       "77       Guatemala         2.234896                2\n",
       "164          Samoa         5.542324                2\n",
       "64          France        14.091530               16\n",
       "22         Bolivia         2.034178                2\n",
       "47            Cuba        10.571910                5\n",
       "106        Lesotho         7.858619                1\n",
       "90         Ireland        10.365070               16\n",
       "210    Yemen, Rep.         6.265789                1\n",
       "45   Cote d'Ivoire        20.317930                1"
      ]
     },
     "execution_count": 14,
     "metadata": {},
     "output_type": "execute_result"
    }
   ],
   "source": [
    "data_clean.sample(10)"
   ]
  },
  {
   "cell_type": "code",
   "execution_count": 15,
   "metadata": {},
   "outputs": [
    {
     "name": "stdout",
     "output_type": "stream",
     "text": [
      "                            OLS Regression Results                            \n",
      "==============================================================================\n",
      "Dep. Variable:        suicideper100th   R-squared:                       0.046\n",
      "Model:                            OLS   Adj. R-squared:                 -0.040\n",
      "Method:                 Least Squares   F-statistic:                    0.5354\n",
      "Date:                Sun, 11 Mar 2018   Prob (F-statistic):              0.918\n",
      "Time:                        22:54:36   Log-Likelihood:                -582.29\n",
      "No. Observations:                 181   AIC:                             1197.\n",
      "Df Residuals:                     165   BIC:                             1248.\n",
      "Df Model:                          15                                         \n",
      "Covariance Type:            nonrobust                                         \n",
      "============================================================================================\n",
      "                               coef    std err          t      P>|t|      [0.025      0.975]\n",
      "--------------------------------------------------------------------------------------------\n",
      "Intercept                   10.1508      0.869     11.685      0.000       8.436      11.866\n",
      "C(incomeperperson)[T.2]     -1.1908      1.514     -0.786      0.433      -4.181       1.799\n",
      "C(incomeperperson)[T.3]      0.6626      1.631      0.406      0.685      -2.557       3.882\n",
      "C(incomeperperson)[T.4]     -3.6117      2.724     -1.326      0.187      -8.990       1.767\n",
      "C(incomeperperson)[T.5]      0.2455      2.543      0.097      0.923      -4.776       5.267\n",
      "C(incomeperperson)[T.6]      0.9709      2.095      0.463      0.644      -3.166       5.108\n",
      "C(incomeperperson)[T.7]     -0.5182      2.399     -0.216      0.829      -5.255       4.218\n",
      "C(incomeperperson)[T.8]     -1.6333      4.556     -0.359      0.720     -10.628       7.362\n",
      "C(incomeperperson)[T.9]     -0.0564      3.753     -0.015      0.988      -7.467       7.354\n",
      "C(incomeperperson)[T.10]    -2.1350      3.753     -0.569      0.570      -9.546       5.276\n",
      "C(incomeperperson)[T.11]     1.0056      4.556      0.221      0.826      -7.989      10.000\n",
      "C(incomeperperson)[T.12]    -5.4963      3.279     -1.676      0.096     -11.971       0.979\n",
      "C(incomeperperson)[T.13]     1.7680      4.556      0.388      0.698      -7.227      10.763\n",
      "C(incomeperperson)[T.14]    -7.3341      6.384     -1.149      0.252     -19.938       5.270\n",
      "C(incomeperperson)[T.15]     2.0290      6.384      0.318      0.751     -10.575      14.633\n",
      "C(incomeperperson)[T.16]    -0.7862      1.430     -0.550      0.583      -3.610       2.037\n",
      "==============================================================================\n",
      "Omnibus:                       54.201   Durbin-Watson:                   2.127\n",
      "Prob(Omnibus):                  0.000   Jarque-Bera (JB):              115.383\n",
      "Skew:                           1.373   Prob(JB):                     8.81e-26\n",
      "Kurtosis:                       5.786   Cond. No.                         14.4\n",
      "==============================================================================\n",
      "\n",
      "Warnings:\n",
      "[1] Standard Errors assume that the covariance matrix of the errors is correctly specified.\n"
     ]
    }
   ],
   "source": [
    "# using ols function for calculating the F-statistic and associated p value\n",
    "model1 = smf.ols(formula='suicideper100th ~ C(incomeperperson)', data=data_clean)\n",
    "results1 = model1.fit()\n",
    "print (results1.summary())"
   ]
  },
  {
   "cell_type": "code",
   "execution_count": 16,
   "metadata": {},
   "outputs": [
    {
     "name": "stdout",
     "output_type": "stream",
     "text": [
      "means for suicideper100th by incomeperperson status\n",
      "                 suicideper100th\n",
      "incomeperperson                 \n",
      "1                      10.150775\n",
      "2                       8.959997\n",
      "3                      10.813357\n",
      "4                       6.539050\n",
      "5                      10.396285\n",
      "6                      11.121717\n",
      "7                       9.632605\n",
      "8                       8.517502\n",
      "9                      10.094339\n",
      "10                      8.015803\n",
      "11                     11.156375\n",
      "12                      4.654520\n",
      "13                     11.918800\n",
      "14                      2.816705\n",
      "15                     12.179760\n",
      "16                      9.364529\n"
     ]
    }
   ],
   "source": [
    "print ('means for suicideper100th by incomeperperson status')\n",
    "m1= data_clean.groupby('incomeperperson').mean()\n",
    "print (m1)"
   ]
  },
  {
   "cell_type": "code",
   "execution_count": 17,
   "metadata": {},
   "outputs": [
    {
     "name": "stdout",
     "output_type": "stream",
     "text": [
      "standard deviations for suicideper100th by incomeperperson status\n",
      "                 suicideper100th\n",
      "incomeperperson                 \n",
      "1                       4.513877\n",
      "2                       8.445583\n",
      "3                       8.155206\n",
      "4                       5.192235\n",
      "5                       5.743890\n",
      "6                       9.465186\n",
      "7                       4.934877\n",
      "8                       5.445398\n",
      "9                       0.569713\n",
      "10                      5.882856\n",
      "11                      4.795303\n",
      "12                      2.555497\n",
      "13                     10.611990\n",
      "14                           NaN\n",
      "15                           NaN\n",
      "16                      5.075992\n"
     ]
    }
   ],
   "source": [
    "print ('standard deviations for suicideper100th by incomeperperson status')\n",
    "sd1= data_clean.groupby('incomeperperson').std()\n",
    "print (sd1)"
   ]
  },
  {
   "cell_type": "code",
   "execution_count": 18,
   "metadata": {},
   "outputs": [
    {
     "name": "stdout",
     "output_type": "stream",
     "text": [
      "Multiple Comparison of Means - Tukey HSD,FWER=0.05\n",
      "==============================================\n",
      "group1 group2 meandiff  lower    upper  reject\n",
      "----------------------------------------------\n",
      "  1      2    -1.1908  -6.4603   4.0788 False \n",
      "  1      3     0.6626  -5.0123   6.3374 False \n",
      "  1      4    -3.6117  -13.0915  5.868  False \n",
      "  1      5     0.2455  -8.6051   9.0961 False \n",
      "  1      6     0.9709   -6.321   8.2628 False \n",
      "  1      7    -0.5182  -8.8659   7.8295 False \n",
      "  1      8    -1.6333  -17.4864 14.2198 False \n",
      "  1      9    -0.0564  -13.1176 13.0047 False \n",
      "  1      10    -2.135  -15.1961 10.9262 False \n",
      "  1      11    1.0056  -14.8475 16.8587 False \n",
      "  1      12   -5.4963  -16.9081  5.9156 False \n",
      "  1      13    1.768   -14.0851 17.6211 False \n",
      "  1      14   -7.3341  -29.549  14.8808 False \n",
      "  1      15    2.029   -20.1859 24.2439 False \n",
      "  1      16   -0.7862  -5.7625    4.19  False \n",
      "  2      3     1.8534  -4.6037   8.3105 False \n",
      "  2      4    -2.4209  -12.3887  7.5468 False \n",
      "  2      5     1.4363  -7.9352  10.8077 False \n",
      "  2      6     2.1617  -5.7542  10.0777 False \n",
      "  2      7     0.6726  -8.2254   9.5706 False \n",
      "  2      8    -0.4425  -16.5921 15.7071 False \n",
      "  2      9     1.1343  -12.2852 14.5539 False \n",
      "  2      10   -0.9442  -14.3637 12.4753 False \n",
      "  2      11    2.1964  -13.9533  18.346 False \n",
      "  2      12   -4.3055  -16.1258  7.5148 False \n",
      "  2      13    2.9588  -13.1908 19.1084 False \n",
      "  2      14   -6.1433  -28.5708 16.2842 False \n",
      "  2      15    3.2198  -19.2077 25.6472 False \n",
      "  2      16    0.4045  -5.4482   6.2572 False \n",
      "  3      4    -4.2743  -14.4621  5.9135 False \n",
      "  3      5    -0.4171  -10.0223  9.1881 False \n",
      "  3      6     0.3084   -7.883   8.4997 False \n",
      "  3      7    -1.1808  -10.3246  7.9631 False \n",
      "  3      8    -2.2959  -18.5822 13.9905 False \n",
      "  3      9     -0.719  -14.3028 12.8648 False \n",
      "  3      10   -2.7976  -16.3813 10.7862 False \n",
      "  3      11    0.343   -15.9434 16.6294 False \n",
      "  3      12   -6.1588  -18.1653  5.8476 False \n",
      "  3      13    1.1054  -15.1809 17.3918 False \n",
      "  3      14   -7.9967  -30.5228 14.5295 False \n",
      "  3      15    1.3664  -21.1597 23.8926 False \n",
      "  3      16   -1.4488  -7.6689   4.7713 False \n",
      "  4      5     3.8572   -8.387  16.1015 False \n",
      "  4      6     4.5827  -6.5869  15.7523 False \n",
      "  4      7     3.0936  -8.7923  14.9794 False \n",
      "  4      8     1.9785  -15.9912 19.9481 False \n",
      "  4      9     3.5553  -12.0069 19.1175 False \n",
      "  4      10    1.4768  -14.0854 17.0389 False \n",
      "  4      11    4.6173  -13.3523  22.587 False \n",
      "  4      12   -1.8845  -16.0908 12.3217 False \n",
      "  4      13    5.3798  -12.5899 23.3494 False \n",
      "  4      14   -3.7223  -27.494  20.0493 False \n",
      "  4      15    5.6407  -18.1309 29.4123 False \n",
      "  4      16    2.8255  -6.9904  12.6414 False \n",
      "  5      6     0.7254  -9.9154  11.3663 False \n",
      "  5      7    -0.7637  -12.154  10.6267 False \n",
      "  5      8    -1.8788  -19.5246 15.7671 False \n",
      "  5      9    -0.3019  -15.4891 14.8852 False \n",
      "  5      10   -2.3805  -17.5676 12.8066 False \n",
      "  5      11    0.7601  -16.8858 18.4059 False \n",
      "  5      12   -5.7418  -19.5362  8.0526 False \n",
      "  5      13    1.5225  -16.1233 19.1684 False \n",
      "  5      14   -7.5796  -31.1074 15.9482 False \n",
      "  5      15    1.7835  -21.7443 25.3113 False \n",
      "  5      16   -1.0318  -10.2415  8.178  False \n",
      "  6      7    -1.4891  -11.7155  8.7372 False \n",
      "  6      8    -2.6042  -19.5221 14.3137 False \n",
      "  6      9    -1.0274  -15.3622 13.3074 False \n",
      "  6      10   -3.1059  -17.4407 11.2289 False \n",
      "  6      11    0.0347  -16.8832 16.9525 False \n",
      "  6      12   -6.4672  -19.3172  6.3828 False \n",
      "  6      13    0.7971  -16.1208  17.715 False \n",
      "  6      14    -8.305  -31.2919 14.6818 False \n",
      "  6      15    1.058   -21.9288 24.0449 False \n",
      "  6      16   -1.7572   -9.481   5.9666 False \n",
      "  7      8    -1.1151  -18.5141 16.2839 False \n",
      "  7      9     0.4617  -14.4379 15.3614 False \n",
      "  7      10   -1.6168  -16.5165 13.2828 False \n",
      "  7      11    1.5238  -15.8753 18.9228 False \n",
      "  7      12   -4.9781  -18.4553  8.4992 False \n",
      "  7      13    2.2862  -15.1128 19.6852 False \n",
      "  7      14   -6.8159  -30.1592 16.5274 False \n",
      "  7      15    2.5472  -20.7961 25.8904 False \n",
      "  7      16   -0.2681  -8.9956   8.4595 False \n",
      "  8      9     1.5768  -18.5138 21.6675 False \n",
      "  8      10   -0.5017  -20.5924  19.589 False \n",
      "  8      11    2.6389  -19.3694 24.6471 False \n",
      "  8      12    -3.863  -22.9227 15.1967 False \n",
      "  8      13    3.4013  -18.6069 25.4095 False \n",
      "  8      14   -5.7008  -32.6553 21.2537 False \n",
      "  8      15    3.6623  -23.2922 30.6167 False \n",
      "  8      16    0.847   -15.2093 16.9034 False \n",
      "  9      10   -2.0785  -20.0482 15.8911 False \n",
      "  9      11    1.062   -19.0286 21.1527 False \n",
      "  9      12   -5.4398  -22.2489 11.3693 False \n",
      "  9      13    1.8245  -18.2662 21.9151 False \n",
      "  9      14   -7.2776  -32.6906 18.1353 False \n",
      "  9      15    2.0854  -23.3275 27.4983 False \n",
      "  9      16   -0.7298  -14.0369 12.5773 False \n",
      "  10     11    3.1406  -16.9501 23.2313 False \n",
      "  10     12   -3.3613  -20.1704 13.4478 False \n",
      "  10     13    3.903   -16.1877 23.9937 False \n",
      "  10     14   -5.1991  -30.612  20.2138 False \n",
      "  10     15    4.164   -21.249  29.5769 False \n",
      "  10     16    1.3487  -11.9584 14.6558 False \n",
      "  11     12   -6.5019  -25.5616 12.5578 False \n",
      "  11     13    0.7624  -21.2458 22.7707 False \n",
      "  11     14   -8.3397  -35.2942 18.6148 False \n",
      "  11     15    1.0234  -25.9311 27.9779 False \n",
      "  11     16   -1.7918  -17.8482 14.2645 False \n",
      "  12     13    7.2643  -11.7954  26.324 False \n",
      "  12     14   -1.8378  -26.4438 22.7681 False \n",
      "  12     15    7.5252  -17.0807 32.1312 False \n",
      "  12     16     4.71   -6.9825  16.4025 False \n",
      "  13     14   -9.1021  -36.0566 17.8524 False \n",
      "  13     15    0.261   -26.6935 27.2154 False \n",
      "  13     16   -2.5543  -18.6106 13.5021 False \n",
      "  14     15    9.3631  -21.7613 40.4874 False \n",
      "  14     16    6.5478  -15.8126 28.9082 False \n",
      "  15     16   -2.8152  -25.1756 19.5452 False \n",
      "----------------------------------------------\n"
     ]
    }
   ],
   "source": [
    "mc1 = multi.MultiComparison(data_clean['suicideper100th'], data_clean['incomeperperson'])\n",
    "res1 = mc1.tukeyhsd()\n",
    "print(res1.summary())"
   ]
  },
  {
   "cell_type": "code",
   "execution_count": null,
   "metadata": {
    "collapsed": true
   },
   "outputs": [],
   "source": []
  }
 ],
 "metadata": {
  "kernelspec": {
   "display_name": "Python3",
   "language": "python",
   "name": "python3"
  },
  "language_info": {
   "codemirror_mode": {
    "name": "ipython",
    "version": 3
   },
   "file_extension": ".py",
   "mimetype": "text/x-python",
   "name": "python",
   "nbconvert_exporter": "python",
   "pygments_lexer": "ipython3",
   "version": "3.6.3"
  }
 },
 "nbformat": 4,
 "nbformat_minor": 2
}
